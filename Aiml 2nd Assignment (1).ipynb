{
 "cells": [
  {
   "cell_type": "markdown",
   "metadata": {},
   "source": [
    "# Create four different user defined functions to check whether the string is a GST Number, PAN Number, Driver's License Number or Adhaar Number. As an example.\n",
    "# A PAN Number looks like this:\n",
    "# ABCDE1234F\n",
    "# A GST Number looks like this:\n",
    "# 12ABCDE3456F7G8\n",
    "# A Driver's Licence Number looks like this:\n",
    "# AB1234561234567\n",
    "# Adhaar Number looks like this:\n",
    "# 123412341234\n",
    "# Each function should return True if the number is PAN, GST, Driver's Licence or Adhaar Number otherwise it should return False\n",
    "# Check each of the four functions by passing a string to each of the functions and look for yourself that whether your function is working fine or not¶"
   ]
  },
  {
   "cell_type": "code",
   "execution_count": null,
   "metadata": {},
   "outputs": [],
   "source": []
  },
  {
   "cell_type": "code",
   "execution_count": null,
   "metadata": {},
   "outputs": [],
   "source": []
  },
  {
   "cell_type": "markdown",
   "metadata": {},
   "source": [
    "# For Pan Number Verification\n",
    "## ABCDE1234F"
   ]
  },
  {
   "cell_type": "code",
   "execution_count": 227,
   "metadata": {},
   "outputs": [],
   "source": [
    "def pan_number_verification(number):\n",
    "    \n",
    "    pan=(number)\n",
    "    x=pan[0:5]\n",
    "    y=pan[5:9]\n",
    "    z=pan[9]\n",
    "    \n",
    "    \n",
    "    if len(pan)==10:\n",
    "        \n",
    "        if x.isalpha()==True and x.isupper()==True and y.isnumeric()==True and z.isalpha()==True and z.isupper()==True:\n",
    "            \n",
    "            return True\n",
    "            \n",
    "        else:\n",
    "            \n",
    "            return False\n",
    "    else:\n",
    "        \n",
    "        return False"
   ]
  },
  {
   "cell_type": "code",
   "execution_count": 239,
   "metadata": {
    "scrolled": true
   },
   "outputs": [
    {
     "data": {
      "text/plain": [
       "True"
      ]
     },
     "execution_count": 239,
     "metadata": {},
     "output_type": "execute_result"
    }
   ],
   "source": [
    "pan_number_verification(\"ABCDE1234F\")"
   ]
  },
  {
   "cell_type": "markdown",
   "metadata": {},
   "source": [
    "# For Adhaar Number Verification\n",
    "## 123412341234"
   ]
  },
  {
   "cell_type": "code",
   "execution_count": 229,
   "metadata": {},
   "outputs": [],
   "source": [
    "def adhaar_number_verification(number):\n",
    "    \n",
    "    adhaar=(number)\n",
    "    x=adhaar[0:12]\n",
    "    \n",
    "    \n",
    "    if len(adhaar)==12:\n",
    "        \n",
    "        if x.isnumeric() == True:\n",
    "            \n",
    "            return True\n",
    "            \n",
    "        else:\n",
    "            \n",
    "            return False\n",
    "    else:\n",
    "        \n",
    "        return False\n",
    "        print(\"Invalid input\")"
   ]
  },
  {
   "cell_type": "code",
   "execution_count": 230,
   "metadata": {},
   "outputs": [
    {
     "data": {
      "text/plain": [
       "True"
      ]
     },
     "execution_count": 230,
     "metadata": {},
     "output_type": "execute_result"
    }
   ],
   "source": [
    "adhaar_number_verification(\"123412341234\")"
   ]
  },
  {
   "cell_type": "markdown",
   "metadata": {},
   "source": [
    "# For GST Number Verification\n",
    "## 12ABCDE3456F7G8"
   ]
  },
  {
   "cell_type": "code",
   "execution_count": 231,
   "metadata": {},
   "outputs": [],
   "source": [
    "def gst_number_verification(number):\n",
    "    \n",
    "    gst=(number)\n",
    "    a=gst[0:2]\n",
    "    b=gst[2:7]\n",
    "    c=gst[7:11]\n",
    "    d=gst[11]\n",
    "    e=gst[12]\n",
    "    f=gst[13]\n",
    "    g=gst[14]\n",
    "    \n",
    "    \n",
    "    if len(gst)==15:\n",
    "        \n",
    "        if a.isnumeric()==True and b.isalpha()==True and b.isupper()==True and c.isnumeric()==True and d.isalpha()==True and d.isupper()==True and e.isnumeric()==True and f.isalpha()==True and f.isupper()==True and g.isnumeric()==True:\n",
    "            \n",
    "            return True\n",
    "            \n",
    "        else:\n",
    "            \n",
    "            return False\n",
    "    else:\n",
    "        \n",
    "        return False"
   ]
  },
  {
   "cell_type": "code",
   "execution_count": 232,
   "metadata": {},
   "outputs": [
    {
     "data": {
      "text/plain": [
       "True"
      ]
     },
     "execution_count": 232,
     "metadata": {},
     "output_type": "execute_result"
    }
   ],
   "source": [
    "gst_number_verification(\"12ABCDE3456F7G8\")"
   ]
  },
  {
   "cell_type": "markdown",
   "metadata": {},
   "source": [
    "# For Driving Licence Number Verification\n",
    "## AB1234561234567"
   ]
  },
  {
   "cell_type": "code",
   "execution_count": 233,
   "metadata": {},
   "outputs": [],
   "source": [
    "def driving_number_verification(number):\n",
    "    \n",
    "    D=(number)\n",
    "    x=D[0:2]\n",
    "    y=D[2:15]\n",
    "    \n",
    "    \n",
    "    if len(D)==15:\n",
    "        \n",
    "        if x.isalpha()==True and x.isupper()==True and y.isnumeric()==True:\n",
    "            \n",
    "            return True\n",
    "            \n",
    "        else:\n",
    "            \n",
    "            return False\n",
    "    else:\n",
    "        \n",
    "        return False"
   ]
  },
  {
   "cell_type": "code",
   "execution_count": 237,
   "metadata": {},
   "outputs": [
    {
     "data": {
      "text/plain": [
       "True"
      ]
     },
     "execution_count": 237,
     "metadata": {},
     "output_type": "execute_result"
    }
   ],
   "source": [
    "driving_number_verification(\"AB1234561234567\")"
   ]
  },
  {
   "cell_type": "code",
   "execution_count": null,
   "metadata": {},
   "outputs": [],
   "source": []
  }
 ],
 "metadata": {
  "kernelspec": {
   "display_name": "Python 3",
   "language": "python",
   "name": "python3"
  },
  "language_info": {
   "codemirror_mode": {
    "name": "ipython",
    "version": 3
   },
   "file_extension": ".py",
   "mimetype": "text/x-python",
   "name": "python",
   "nbconvert_exporter": "python",
   "pygments_lexer": "ipython3",
   "version": "3.8.5"
  }
 },
 "nbformat": 4,
 "nbformat_minor": 4
}

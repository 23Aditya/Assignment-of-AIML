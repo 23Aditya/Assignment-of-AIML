{
 "cells": [
  {
   "cell_type": "markdown",
   "metadata": {},
   "source": [
    "# Write a code to take any 10 numbers in a list and put all the even numbers as well as prime numbers in a dictionary. Your output should look something like this:\n",
    "# Suppose the list has following 10 numbers:\n",
    "# [25, 36, 31, 17, 61, 19, 58, 39, 67, 81]\n",
    "# Then the output of your program should look something like this:\n",
    "# {'even' : [36, 58], 'prime' : [31, 17, 61, 19, 67]}\n",
    "# Don't forget to apply divide and conquer strategy. So think about the solution first about only a single number and then build upon it."
   ]
  },
  {
   "cell_type": "code",
   "execution_count": 23,
   "metadata": {},
   "outputs": [],
   "source": [
    "l = [1,2,25,36,31,17,61,19,58,39,67,81]"
   ]
  },
  {
   "cell_type": "code",
   "execution_count": 25,
   "metadata": {},
   "outputs": [
    {
     "data": {
      "text/plain": [
       "{'prime': [1, 2, 31, 17, 61, 19, 67], 'even': [2, 36, 58]}"
      ]
     },
     "execution_count": 25,
     "metadata": {},
     "output_type": "execute_result"
    }
   ],
   "source": [
    "prime = []\n",
    "\n",
    "even = []\n",
    "\n",
    "for i in l:\n",
    "    \n",
    "    if i % 2 == 0:\n",
    "        \n",
    "        if i == 2:\n",
    "            prime.append(i)\n",
    "    \n",
    "        even.append(i)    \n",
    "    else:\n",
    "        \n",
    "        if i == 1:\n",
    "            prime.append(i)\n",
    "            \n",
    "        for divisor in range(2,i):\n",
    "            if i % divisor == 0:\n",
    "                break\n",
    "\n",
    "        if divisor == (i - 1):\n",
    "            prime.append(i)\n",
    "            \n",
    "d = dict(zip([\"prime\",\"even\"],[prime,even]))\n",
    "\n",
    "d"
   ]
  }
 ],
 "metadata": {
  "kernelspec": {
   "display_name": "Python 3",
   "language": "python",
   "name": "python3"
  },
  "language_info": {
   "codemirror_mode": {
    "name": "ipython",
    "version": 3
   },
   "file_extension": ".py",
   "mimetype": "text/x-python",
   "name": "python",
   "nbconvert_exporter": "python",
   "pygments_lexer": "ipython3",
   "version": "3.8.5"
  }
 },
 "nbformat": 4,
 "nbformat_minor": 4
}
